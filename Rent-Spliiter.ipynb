{
 "cells": [
  {
   "cell_type": "code",
   "execution_count": 1,
   "id": "3b2128c9",
   "metadata": {},
   "outputs": [],
   "source": [
    "import webbrowser\n",
    "import os\n",
    "from fpdf import FPDF"
   ]
  },
  {
   "cell_type": "code",
   "execution_count": 2,
   "id": "8534604b",
   "metadata": {},
   "outputs": [],
   "source": [
    "class PdfReport:\n",
    "    \n",
    "    def __init__(self, filename):\n",
    "        self.filename =filename\n",
    "    def generate(self, flatmates, bill):    \n",
    "        pdf = FPDF(orientation='P', unit='pt', format='A4')\n",
    "        pdf.add_page()\n",
    "\n",
    "        # Add icon\n",
    "        pdf.image(r\"C:\\Users\\SKAND\\OneDrive\\Desktop\\the.jpeg\", w=30, h=30)\n",
    "\n",
    "        # Insert title\n",
    "        pdf.set_font(family='Times', size=24, style='B')\n",
    "        pdf.cell(w=0, h=80, txt=\"Flatmates Bill\", border=0, align=\"C\", ln=1)\n",
    "\n",
    "\n",
    "        # Insert Period label and value\n",
    "        pdf.set_font(family=\"Times\", size=14, style='B')\n",
    "        pdf.cell(w=100, h=40, txt=\"Period:\", border=0)\n",
    "        pdf.cell(w=150, h=40, txt=bill.period, border=0, ln=1)   \n",
    "\n",
    "        # Calculate total days for all flatmates\n",
    "\n",
    "        total_days = sum(flatmate.days_in_house for flatmate in flatmates)\n",
    "\n",
    "        # Insert name and due amount for each flatmate\n",
    "\n",
    "        pdf.set_font(family=\"Times\", size=12)\n",
    "        for flatmate in flatmates:\n",
    "            share = (flatmate.days_in_house / total_days) * bill.amount\n",
    "            pdf.cell(w=100, h=25, txt=flatmate.name, border=0)\n",
    "            pdf.cell(w=150, h=25, txt=f\"{share:.2f}\", border=0, ln=1)\n",
    "\n",
    "        # Optionally, change directory to 'files' or another specific path where you want to save your PDF reports\n",
    "        # os.chdir(\"path/to/directory\")\n",
    "        pdf.output(self.filename)\n",
    "\n",
    "        webbrowser.open(self.filename) #for windows user\n",
    "\n",
    "        # Open the PDF automatically after generating it\n",
    "        webbrowser.open('file://' + os.path.realpath(self.filename))"
   ]
  },
  {
   "cell_type": "code",
   "execution_count": 3,
   "id": "083d8953",
   "metadata": {},
   "outputs": [],
   "source": [
    "class Bills:\n",
    "    def __init__(self, amount, period):\n",
    "        self.amount = amount\n",
    "        self.period = period\n",
    "class Flatmate:\n",
    "    '''Create a flatmate list of people who lives in flat and pay share a bill of a bill'''\n",
    "    def __init__(self,name,days_in_house):\n",
    "        self.name = name\n",
    "        self.days_in_house = days_in_house\n",
    "        "
   ]
  },
  {
   "cell_type": "code",
   "execution_count": 4,
   "id": "e5434046",
   "metadata": {},
   "outputs": [
    {
     "name": "stdout",
     "output_type": "stream",
     "text": [
      "Enter the bill amount2000\n",
      "What is the bill periodjan\n",
      "How many flatmates are there2\n",
      "what is the name of flatmate 1?a\n",
      "how many days a stayed in house during this period23\n",
      "what is the name of flatmate 2?b\n",
      "how many days b stayed in house during this period12\n",
      "[<__main__.Flatmate object at 0x0000021A34415190>, <__main__.Flatmate object at 0x0000021A34415710>]\n",
      "a  will pay:1314.29\n",
      "b  will pay:685.71\n"
     ]
    }
   ],
   "source": [
    "amount = float(input(\"Enter the bill amount\"))\n",
    "period = input(\"What is the bill period\")\n",
    "\n",
    "#collecting the flatmates information\n",
    "flatmates =[]\n",
    "num_flatemates = int(input(\"How many flatmates are there\"))\n",
    "\n",
    "for i in range(num_flatemates):\n",
    "    name = input(f\"what is the name of flatmate {i+1}?\")\n",
    "    days_in_house = int(input(f\"how many days {name} stayed in house during this period\"))\n",
    "    flatmates.append(Flatmate(name, days_in_house))\n",
    "    \n",
    "    \n",
    "print(flatmates)\n",
    "\n",
    "the_bill = Bills(amount,period)\n",
    "total_days = sum([flatmate.days_in_house for flatmate in flatmates])\n",
    "    \n",
    "for flatmate in flatmates:\n",
    "    share = (flatmate.days_in_house / total_days)*the_bill.amount\n",
    "    print(f\"{flatmate.name}  will pay:{share:.2f}\")\n",
    "\n",
    "pdf_report = PdfReport(filename=f\"{the_bill.period}.pdf\")   \n",
    "pdf_report.generate(flatmates, the_bill)  # Note: You'll need to adjust the generate method to handle multiple flatmates."
   ]
  },
  {
   "cell_type": "code",
   "execution_count": null,
   "id": "7411ddd3",
   "metadata": {},
   "outputs": [],
   "source": []
  }
 ],
 "metadata": {
  "kernelspec": {
   "display_name": "Python 3 (ipykernel)",
   "language": "python",
   "name": "python3"
  },
  "language_info": {
   "codemirror_mode": {
    "name": "ipython",
    "version": 3
   },
   "file_extension": ".py",
   "mimetype": "text/x-python",
   "name": "python",
   "nbconvert_exporter": "python",
   "pygments_lexer": "ipython3",
   "version": "3.11.5"
  }
 },
 "nbformat": 4,
 "nbformat_minor": 5
}
